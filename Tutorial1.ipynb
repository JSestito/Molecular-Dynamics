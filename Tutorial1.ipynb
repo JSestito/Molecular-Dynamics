{
 "cells": [
  {
   "cell_type": "code",
   "execution_count": 1,
   "metadata": {
    "collapsed": false
   },
   "outputs": [],
   "source": [
    "from lammps import IPyLammps"
   ]
  },
  {
   "cell_type": "code",
   "execution_count": 2,
   "metadata": {
    "collapsed": false
   },
   "outputs": [
    {
     "name": "stdout",
     "output_type": "stream",
     "text": [
      "LAMMPS output is captured by PyLammps wrapper\n"
     ]
    }
   ],
   "source": [
    "L = IPyLammps()"
   ]
  },
  {
   "cell_type": "code",
   "execution_count": 3,
   "metadata": {
    "collapsed": false
   },
   "outputs": [],
   "source": [
    "# Initialize Simulation\n",
    "L.clear()\n",
    "L.units(\"metal\")\n",
    "L.dimension(3)\n",
    "L.boundary(\"p p p\")\n",
    "L.atom_style(\"atomic\")\n",
    "L.atom_modify(\"map array\")"
   ]
  },
  {
   "cell_type": "code",
   "execution_count": 4,
   "metadata": {
    "collapsed": false
   },
   "outputs": [
    {
     "data": {
      "text/plain": [
       "[u'Replicating atoms ...',\n",
       " u'  orthogonal box = (0 0 0) to (4 4 4)',\n",
       " u'  1 by 1 by 1 MPI processor grid',\n",
       " u'  4 atoms']"
      ]
     },
     "execution_count": 4,
     "metadata": {},
     "output_type": "execute_result"
    }
   ],
   "source": [
    "# Create Atoms\n",
    "L.lattice(\"fcc\", 4)\n",
    "L.region(\"box\", \"block\", 0,1,0,1,0,1,\"units\",\"lattice\")\n",
    "L.create_box(1,\"box\")\n",
    "\n",
    "L.lattice(\"fcc\",4,\"orient\",\"x\",1,0,0,\"orient\",\"y\",0,1,0,\"orient\",\"z\",0,0,1)\n",
    "L.create_atoms(1,\"box\")\n",
    "L.replicate(1,1,1)"
   ]
  },
  {
   "cell_type": "code",
   "execution_count": 5,
   "metadata": {
    "collapsed": false
   },
   "outputs": [],
   "source": [
    "# Define Interatomic Potential\n",
    "L.pair_style(\"eam/alloy\")"
   ]
  },
  {
   "cell_type": "code",
   "execution_count": null,
   "metadata": {
    "collapsed": true
   },
   "outputs": [],
   "source": []
  }
 ],
 "metadata": {
  "kernelspec": {
   "display_name": "Python 2",
   "language": "python",
   "name": "python2"
  },
  "language_info": {
   "codemirror_mode": {
    "name": "ipython",
    "version": 2
   },
   "file_extension": ".py",
   "mimetype": "text/x-python",
   "name": "python",
   "nbconvert_exporter": "python",
   "pygments_lexer": "ipython2",
   "version": "2.7.12"
  }
 },
 "nbformat": 4,
 "nbformat_minor": 2
}
